{
 "cells": [
  {
   "cell_type": "code",
   "execution_count": 1,
   "metadata": {},
   "outputs": [],
   "source": [
    "from teacher.datasets import load_adult, load_beer, load_german, load_compas, load_heloc, load_pima, load_breast\n",
    "from teacher.neighbors import LoreNeighborhood, NotFittedError\n",
    "from teacher.metrics import coverage, precision\n",
    "from teacher.explanation import FDTExplainer\n",
    "from teacher.fuzzy import get_fuzzy_variables, get_fuzzy_points, dataset_membership, FuzzyContinuousSet\n",
    "from teacher.tree import Rule, FDT\n",
    "from teacher.explanation import mr_factual, m_factual, c_factual, f_counterfactual, i_counterfactual\n",
    "from teacher.explanation._factual import _robust_threshold, _fired_rules, _get_class_fired_rules\n",
    "\n",
    "\n",
    "from teacher.tree.tests.fdt_legacy_tree import FDT_Legacy\n",
    "\n",
    "import random\n",
    "import warnings\n",
    "\n",
    "from sklearn.ensemble import RandomForestClassifier\n",
    "from sklearn.model_selection import train_test_split\n",
    "from sklearn import datasets\n",
    "\n",
    "\n",
    "import numpy as np\n",
    "import pandas as pd\n",
    "from functools import reduce\n"
   ]
  },
  {
   "cell_type": "code",
   "execution_count": 2,
   "metadata": {},
   "outputs": [],
   "source": [
    "def _get_fuzzy_element(fuzzy_X, idx):\n",
    "    element = {}\n",
    "    for feat in fuzzy_X:\n",
    "        element[feat] = {}\n",
    "        for fuzzy_set in fuzzy_X[feat]:\n",
    "            try:\n",
    "                element[feat][str(fuzzy_set)] = pd.to_numeric(fuzzy_X[feat][fuzzy_set][idx])\n",
    "            except ValueError:\n",
    "                element[feat][str(fuzzy_set)] = fuzzy_X[feat][fuzzy_set][idx]\n",
    "\n",
    "    return element"
   ]
  },
  {
   "cell_type": "code",
   "execution_count": 3,
   "metadata": {},
   "outputs": [
    {
     "name": "stdout",
     "output_type": "stream",
     "text": [
      "Training FDT\n"
     ]
    }
   ],
   "source": [
    "dataset = load_beer()\n",
    "\n",
    "df = dataset['df']\n",
    "class_name = dataset['class_name']\n",
    "\n",
    "X = df.drop(class_name, axis=1)\n",
    "y = df[class_name]\n",
    "\n",
    "X_train, X_test, y_train, y_test = train_test_split(X, y, test_size=0.2, random_state=0)\n",
    "\n",
    "df_categorical_columns = dataset['discrete']\n",
    "class_name = dataset['class_name']\n",
    "df_categorical_columns.remove(class_name)\n",
    "\n",
    "X_num = X[dataset['continuous']]\n",
    "num_cols = X_num.columns\n",
    "fuzzy_points = get_fuzzy_points('entropy', num_cols, X_num, y)\n",
    "\n",
    "discrete_fuzzy_values = {col: df[col].unique() for col in df_categorical_columns}\n",
    "fuzzy_variables_order = {col: i for i, col in enumerate(X.columns)}\n",
    "fuzzy_variables = get_fuzzy_variables(fuzzy_points, discrete_fuzzy_values, fuzzy_variables_order)\n",
    "\n",
    "df_train_membership = dataset_membership(X_train, fuzzy_variables)\n",
    "df_test_membership = dataset_membership(X_test, fuzzy_variables)\n",
    "\n",
    "print(f'Training FDT')\n",
    "fdt = FDT(fuzzy_variables)\n",
    "fdt.fit(X_train, y_train)\n",
    "\n",
    "rules = fdt.to_rule_based_system()"
   ]
  },
  {
   "cell_type": "code",
   "execution_count": 4,
   "metadata": {},
   "outputs": [
    {
     "name": "stdout",
     "output_type": "stream",
     "text": [
      "1\n",
      "21\n",
      "31\n",
      "77\n",
      "79\n"
     ]
    }
   ],
   "source": [
    "rules_tested = len(X_test)\n",
    "for fuzzy_element_idx in range(rules_tested):\n",
    "    instance = X_test.iloc[fuzzy_element_idx].to_numpy().reshape(1, -1)\n",
    "    fuzzy_element = _get_fuzzy_element(df_test_membership, fuzzy_element_idx)\n",
    "    target = fdt.predict(instance)\n",
    "    m_fact = m_factual(fuzzy_element, rules, target)\n",
    "    mr_fact = mr_factual(fuzzy_element, rules, target)\n",
    "    c_fact = c_factual(fuzzy_element, rules, target, lam=0.1)\n",
    "    if len(mr_fact) > 1:\n",
    "        print(fuzzy_element_idx)"
   ]
  },
  {
   "cell_type": "code",
   "execution_count": 5,
   "metadata": {},
   "outputs": [],
   "source": [
    "def check_robustness(instance, r_th, factual):\n",
    "    fact_AD = 0\n",
    "    for rule in factual:\n",
    "        fact_AD += rule.matching(instance) * rule.weight\n",
    "    \n",
    "    return fact_AD >= r_th"
   ]
  },
  {
   "cell_type": "code",
   "execution_count": 6,
   "metadata": {},
   "outputs": [],
   "source": [
    "def factual_stats(fuzzy_element, target, rules):\n",
    "    m_fact = m_factual(fuzzy_element, rules, target)\n",
    "    mr_fact = mr_factual(fuzzy_element, rules, target)\n",
    "    c_fact = c_factual(fuzzy_element, rules, target, lam=0.1)\n",
    "    fired_rules = _fired_rules(fuzzy_element, rules)\n",
    "    class_fired_rules = _get_class_fired_rules(fired_rules, target)\n",
    "    class_fired_rules.sort(key=lambda rule: rule.matching(fuzzy_element) * rule.weight, reverse=True)\n",
    "    beta_1 = reduce(lambda x, y: x + (y.matching(fuzzy_element) * y.weight), class_fired_rules, 0) / 2\n",
    "    r_th = _robust_threshold(fuzzy_element, rules, target)\n",
    "    c_beta1_fact = c_factual(fuzzy_element, rules, target, lam=0.1, beta=beta_1)\n",
    "    print(f'Fired rules: {len(fired_rules)}')\n",
    "    print(f'M_fact: length={len(m_fact)}, robust={check_robustness(fuzzy_element, r_th, m_fact)}')\n",
    "    print(f'MR_fact: length={len(mr_fact)}, robust={check_robustness(fuzzy_element, r_th, mr_fact)}')\n",
    "    print(f'C_fact: length={len(c_fact)}, robust={check_robustness(fuzzy_element, r_th, c_fact)}')\n",
    "    print(f'C_beta1_fact: length={len(c_beta1_fact)}, robust={check_robustness(fuzzy_element, r_th, c_beta1_fact)}')\n"
   ]
  },
  {
   "cell_type": "code",
   "execution_count": 7,
   "metadata": {},
   "outputs": [
    {
     "name": "stdout",
     "output_type": "stream",
     "text": [
      "Fired rules: 10\n",
      "M_fact: length=3, robust=True\n",
      "MR_fact: length=3, robust=True\n",
      "C_fact: length=1, robust=False\n",
      "C_beta1_fact: length=2, robust=False\n"
     ]
    }
   ],
   "source": [
    "fuzzy_element_idx = 21\n",
    "instance = X_test.iloc[fuzzy_element_idx].to_numpy().reshape(1, -1)\n",
    "fuzzy_element = _get_fuzzy_element(df_test_membership, fuzzy_element_idx)\n",
    "target = fdt.predict(instance)\n",
    "factual_stats(fuzzy_element, target, rules)"
   ]
  },
  {
   "cell_type": "code",
   "execution_count": 8,
   "metadata": {},
   "outputs": [
    {
     "name": "stdout",
     "output_type": "stream",
     "text": [
      "Element 14\n",
      "Fired rules: 8\n",
      "M_fact: length=2, robust=False\n",
      "MR_fact: length=3, robust=True\n",
      "C_fact: length=1, robust=False\n",
      "C_beta1_fact: length=2, robust=False\n",
      "-------------------\n",
      "Element 23\n",
      "Fired rules: 10\n",
      "M_fact: length=3, robust=True\n",
      "MR_fact: length=3, robust=True\n",
      "C_fact: length=1, robust=False\n",
      "C_beta1_fact: length=2, robust=False\n",
      "-------------------\n",
      "Element 25\n",
      "Fired rules: 4\n",
      "M_fact: length=1, robust=False\n",
      "MR_fact: length=2, robust=True\n",
      "C_fact: length=2, robust=True\n",
      "C_beta1_fact: length=2, robust=True\n",
      "-------------------\n",
      "Element 36\n",
      "Fired rules: 10\n",
      "M_fact: length=2, robust=True\n",
      "MR_fact: length=2, robust=True\n",
      "C_fact: length=1, robust=False\n",
      "C_beta1_fact: length=2, robust=True\n",
      "-------------------\n",
      "Element 50\n",
      "Fired rules: 8\n",
      "M_fact: length=1, robust=False\n",
      "MR_fact: length=2, robust=True\n",
      "C_fact: length=1, robust=False\n",
      "C_beta1_fact: length=1, robust=False\n",
      "-------------------\n",
      "Element 56\n",
      "Fired rules: 6\n",
      "M_fact: length=1, robust=False\n",
      "MR_fact: length=2, robust=True\n",
      "C_fact: length=1, robust=False\n",
      "C_beta1_fact: length=2, robust=True\n",
      "-------------------\n",
      "Element 58\n",
      "Fired rules: 6\n",
      "M_fact: length=2, robust=True\n",
      "MR_fact: length=2, robust=True\n",
      "C_fact: length=1, robust=False\n",
      "C_beta1_fact: length=2, robust=True\n",
      "-------------------\n",
      "Element 67\n",
      "Fired rules: 6\n",
      "M_fact: length=2, robust=True\n",
      "MR_fact: length=2, robust=True\n",
      "C_fact: length=1, robust=False\n",
      "C_beta1_fact: length=2, robust=True\n",
      "-------------------\n",
      "Element 72\n",
      "Fired rules: 8\n",
      "M_fact: length=2, robust=True\n",
      "MR_fact: length=2, robust=True\n",
      "C_fact: length=1, robust=False\n",
      "C_beta1_fact: length=1, robust=False\n",
      "-------------------\n",
      "Element 107\n",
      "Fired rules: 9\n",
      "M_fact: length=1, robust=False\n",
      "MR_fact: length=2, robust=True\n",
      "C_fact: length=1, robust=False\n",
      "C_beta1_fact: length=4, robust=True\n",
      "-------------------\n",
      "Element 109\n",
      "Fired rules: 8\n",
      "M_fact: length=2, robust=True\n",
      "MR_fact: length=2, robust=True\n",
      "C_fact: length=1, robust=False\n",
      "C_beta1_fact: length=2, robust=True\n",
      "-------------------\n",
      "Element 121\n",
      "Fired rules: 6\n",
      "M_fact: length=2, robust=True\n",
      "MR_fact: length=2, robust=True\n",
      "C_fact: length=2, robust=True\n",
      "C_beta1_fact: length=2, robust=True\n",
      "-------------------\n",
      "Element 141\n",
      "Fired rules: 4\n",
      "M_fact: length=1, robust=False\n",
      "MR_fact: length=2, robust=True\n",
      "C_fact: length=1, robust=False\n",
      "C_beta1_fact: length=1, robust=False\n",
      "-------------------\n",
      "Element 180\n",
      "Fired rules: 6\n",
      "M_fact: length=2, robust=True\n",
      "MR_fact: length=2, robust=True\n",
      "C_fact: length=2, robust=True\n",
      "C_beta1_fact: length=2, robust=True\n",
      "-------------------\n",
      "Element 184\n",
      "Fired rules: 6\n",
      "M_fact: length=1, robust=False\n",
      "MR_fact: length=2, robust=True\n",
      "C_fact: length=1, robust=False\n",
      "C_beta1_fact: length=2, robust=True\n",
      "-------------------\n",
      "Element 189\n",
      "Fired rules: 7\n",
      "M_fact: length=2, robust=True\n",
      "MR_fact: length=2, robust=True\n",
      "C_fact: length=1, robust=False\n",
      "C_beta1_fact: length=1, robust=False\n",
      "-------------------\n",
      "Element 221\n",
      "Fired rules: 6\n",
      "M_fact: length=1, robust=False\n",
      "MR_fact: length=2, robust=True\n",
      "C_fact: length=1, robust=False\n",
      "C_beta1_fact: length=4, robust=True\n",
      "-------------------\n",
      "Element 232\n",
      "Fired rules: 6\n",
      "M_fact: length=2, robust=True\n",
      "MR_fact: length=2, robust=True\n",
      "C_fact: length=1, robust=False\n",
      "C_beta1_fact: length=2, robust=True\n",
      "-------------------\n",
      "Element 244\n",
      "Fired rules: 6\n",
      "M_fact: length=1, robust=False\n",
      "MR_fact: length=3, robust=True\n",
      "C_fact: length=1, robust=False\n",
      "C_beta1_fact: length=1, robust=False\n",
      "-------------------\n",
      "Element 245\n",
      "Fired rules: 6\n",
      "M_fact: length=2, robust=True\n",
      "MR_fact: length=2, robust=True\n",
      "C_fact: length=2, robust=True\n",
      "C_beta1_fact: length=2, robust=True\n",
      "-------------------\n",
      "Element 266\n",
      "Fired rules: 4\n",
      "M_fact: length=1, robust=False\n",
      "MR_fact: length=2, robust=True\n",
      "C_fact: length=1, robust=False\n",
      "C_beta1_fact: length=1, robust=False\n",
      "-------------------\n",
      "Element 272\n",
      "Fired rules: 8\n",
      "M_fact: length=2, robust=True\n",
      "MR_fact: length=2, robust=True\n",
      "C_fact: length=1, robust=False\n",
      "C_beta1_fact: length=2, robust=True\n",
      "-------------------\n",
      "Element 294\n",
      "Fired rules: 6\n",
      "M_fact: length=2, robust=True\n",
      "MR_fact: length=2, robust=True\n",
      "C_fact: length=2, robust=True\n",
      "C_beta1_fact: length=2, robust=True\n",
      "-------------------\n",
      "Element 309\n",
      "Fired rules: 8\n",
      "M_fact: length=2, robust=False\n",
      "MR_fact: length=3, robust=True\n",
      "C_fact: length=1, robust=False\n",
      "C_beta1_fact: length=1, robust=False\n",
      "-------------------\n",
      "Element 314\n",
      "Fired rules: 16\n",
      "M_fact: length=4, robust=True\n",
      "MR_fact: length=4, robust=True\n",
      "C_fact: length=4, robust=True\n",
      "C_beta1_fact: length=4, robust=True\n",
      "-------------------\n"
     ]
    }
   ],
   "source": [
    "rules_tested = len(X_train)\n",
    "for fuzzy_element_idx in range(rules_tested):\n",
    "    instance = X_train.iloc[fuzzy_element_idx].to_numpy().reshape(1, -1)\n",
    "    fuzzy_element = _get_fuzzy_element(df_train_membership, fuzzy_element_idx)\n",
    "    target = fdt.predict(instance)\n",
    "    m_fact = m_factual(fuzzy_element, rules, target)\n",
    "    mr_fact = mr_factual(fuzzy_element, rules, target)\n",
    "    c_fact = c_factual(fuzzy_element, rules, target, lam=0.1)\n",
    "    if len(mr_fact) > 1:\n",
    "        print(f'Element {fuzzy_element_idx}')\n",
    "        factual_stats(fuzzy_element, target, rules)\n",
    "        print('-------------------')"
   ]
  },
  {
   "cell_type": "code",
   "execution_count": 9,
   "metadata": {},
   "outputs": [
    {
     "name": "stdout",
     "output_type": "stream",
     "text": [
      "Fired rules: 8\n",
      "M_fact: length=2, robust=False\n",
      "MR_fact: length=3, robust=True\n",
      "C_fact: length=1, robust=False\n",
      "C_beta1_fact: length=2, robust=False\n",
      "[Rule((('color', '12.0'), ('strength', '0.077')), IPA, 0.926387771520515), Rule((('color', '16.0'), ('strength', '0.077')), IPA, 0.6518218623481782), Rule((('color', '12.0'), ('strength', '0.092')), IPA, 0.43677042801556426)]\n"
     ]
    }
   ],
   "source": [
    "fuzzy_element_idx = 14\n",
    "\n",
    "instance = X_train.iloc[fuzzy_element_idx].to_numpy().reshape(1, -1)\n",
    "fuzzy_element = _get_fuzzy_element(df_train_membership, fuzzy_element_idx)\n",
    "target = fdt.predict(instance)\n",
    "m_fact = m_factual(fuzzy_element, rules, target)\n",
    "mr_fact = mr_factual(fuzzy_element, rules, target)\n",
    "c_fact = c_factual(fuzzy_element, rules, target, lam=0.1)\n",
    "fired_rules = _fired_rules(fuzzy_element, rules)\n",
    "class_fired_rules = _get_class_fired_rules(fired_rules, target)\n",
    "class_fired_rules.sort(key=lambda rule: rule.matching(fuzzy_element) * rule.weight, reverse=True)\n",
    "beta_1 = reduce(lambda x, y: x + (y.matching(fuzzy_element) * y.weight), class_fired_rules, 0) / 2\n",
    "r_th = _robust_threshold(fuzzy_element, rules, target)\n",
    "c_beta1_fact = c_factual(fuzzy_element, rules, target, lam=0.1, beta=beta_1)\n",
    "c_beta2_fact = c_factual(fuzzy_element, rules, target, lam=0.1, beta=r_th)\n",
    "factual_stats(fuzzy_element, target, rules)\n",
    "print(mr_fact)\n",
    "fired_rules = _fired_rules(fuzzy_element, rules)\n"
   ]
  },
  {
   "cell_type": "code",
   "execution_count": 12,
   "metadata": {},
   "outputs": [
    {
     "data": {
      "text/plain": [
       "[Rule((('color', '12.0'), ('strength', '0.077')), IPA, 0.926387771520515),\n",
       " Rule((('color', '16.0'), ('strength', '0.077')), IPA, 0.6518218623481782)]"
      ]
     },
     "execution_count": 12,
     "metadata": {},
     "output_type": "execute_result"
    }
   ],
   "source": [
    "m_fact"
   ]
  },
  {
   "cell_type": "code",
   "execution_count": 13,
   "metadata": {},
   "outputs": [
    {
     "data": {
      "text/plain": [
       "[Rule((('color', '12.0'), ('strength', '0.077')), IPA, 0.926387771520515)]"
      ]
     },
     "execution_count": 13,
     "metadata": {},
     "output_type": "execute_result"
    }
   ],
   "source": [
    "c_fact"
   ]
  },
  {
   "cell_type": "code",
   "execution_count": 101,
   "metadata": {},
   "outputs": [
    {
     "data": {
      "text/plain": [
       "[Rule((('color', '12.0'), ('strength', '0.077')), IPA, 0.926387771520515),\n",
       " Rule((('color', '16.0'), ('strength', '0.077')), IPA, 0.6518218623481782),\n",
       " Rule((('color', '12.0'), ('strength', '0.092')), IPA, 0.43677042801556426)]"
      ]
     },
     "execution_count": 101,
     "metadata": {},
     "output_type": "execute_result"
    }
   ],
   "source": [
    "c_beta2_fact"
   ]
  },
  {
   "cell_type": "code",
   "execution_count": 45,
   "metadata": {},
   "outputs": [
    {
     "data": {
      "text/plain": [
       "array([['IPA']], dtype='<U3')"
      ]
     },
     "execution_count": 45,
     "metadata": {},
     "output_type": "execute_result"
    }
   ],
   "source": [
    "target"
   ]
  },
  {
   "cell_type": "code",
   "execution_count": 35,
   "metadata": {},
   "outputs": [],
   "source": [
    "def apply_rule(rule, instance, fuzzy_vars):\n",
    "    changes = {a[0]: a[1] for a in rule.antecedent}\n",
    "    n_inst = instance.copy()\n",
    "    n_changes = 0\n",
    "    changes_made = []\n",
    "    for i, fv in enumerate(fuzzy_vars):\n",
    "        fs_idx = np.argmax([a[0] for a in fv.membership(instance[:,i]).values()])\n",
    "        if fv.name in changes and changes[fv.name] != fv.fuzzy_sets[fs_idx].name:\n",
    "            n_changes += 1\n",
    "            changes_made.append((fv.name, changes[fv.name]))\n",
    "            if isinstance(fv.fuzzy_sets[fs_idx], FuzzyContinuousSet):\n",
    "                n_inst[:,i] = float(changes[fv.name])\n",
    "            else:\n",
    "                n_inst[:,i] = changes[fv.name]\n",
    "\n",
    "    return n_inst, n_changes, changes_made"
   ]
  },
  {
   "cell_type": "code",
   "execution_count": 126,
   "metadata": {},
   "outputs": [],
   "source": [
    "def cf_stats(cf, inst, target, fuzzy_vars, fdt):\n",
    "    for i, (r, d) in enumerate(cf):\n",
    "        n_instance, n_changes, changes_made = apply_rule(r, inst, fuzzy_vars)\n",
    "        n_target = fdt.predict(n_instance)\n",
    "        print(changes_made)\n",
    "        if n_target != target: \n",
    "            break\n",
    "    # Number of changes, rules tested, distance\n",
    "    return changes_made, n_changes, i + 1, d"
   ]
  },
  {
   "cell_type": "code",
   "execution_count": 40,
   "metadata": {},
   "outputs": [
    {
     "name": "stdout",
     "output_type": "stream",
     "text": [
      "([('color', '16.0')], 1, 2, 0.05555555555555555)\n"
     ]
    }
   ],
   "source": [
    "i_cf = i_counterfactual(fuzzy_element, rules, target, dataset['continuous'])\n",
    "print(cf_stats(i_cf, instance, target, fuzzy_variables, fdt))"
   ]
  },
  {
   "cell_type": "code",
   "execution_count": 104,
   "metadata": {},
   "outputs": [
    {
     "data": {
      "text/plain": [
       "(Rule((('color', '12.0'), ('strength', '0.092')), Barleywine, 0.5632295719844357),\n",
       " 0.0)"
      ]
     },
     "execution_count": 104,
     "metadata": {},
     "output_type": "execute_result"
    }
   ],
   "source": [
    "i_cf[0]"
   ]
  },
  {
   "cell_type": "code",
   "execution_count": 105,
   "metadata": {},
   "outputs": [
    {
     "data": {
      "text/plain": [
       "[(Rule((('color', '16.0'), ('strength', '0.092')), Barleywine, 0.8792032717358376),\n",
       "  0.05555555555555555),\n",
       " (Rule((('color', '12.0'), ('strength', '0.077')), Barleywine, 0.07361222847948515),\n",
       "  0.10666666666666678),\n",
       " (Rule((('color', '7.0'), ('bitterness', '60.0'), ('strength', '0.092')), Barleywine, 0.03981776765375854),\n",
       "  0.1111111111111111),\n",
       " (Rule((('color', '16.0'), ('strength', '0.077')), Barleywine, 0.348178137651822),\n",
       "  0.16222222222222232)]"
      ]
     },
     "execution_count": 105,
     "metadata": {},
     "output_type": "execute_result"
    }
   ],
   "source": [
    "a = [r for r in i_cf if r[1] > 0][:4]\n",
    "a"
   ]
  },
  {
   "cell_type": "code",
   "execution_count": 127,
   "metadata": {},
   "outputs": [
    {
     "name": "stdout",
     "output_type": "stream",
     "text": [
      "[('strength', '0.077')]\n",
      "[('color', '16.0'), ('strength', '0.077')]\n",
      "[]\n",
      "[('color', '16.0')]\n",
      "([('color', '16.0')], 1, 4, 0.1470370370370369)\n"
     ]
    }
   ],
   "source": [
    "f_cf = f_counterfactual(mr_fact, fuzzy_element, rules, target, dataset['continuous'], tau=0.5)\n",
    "print(cf_stats(f_cf, instance, target, fuzzy_variables, fdt))"
   ]
  },
  {
   "cell_type": "code",
   "execution_count": 42,
   "metadata": {},
   "outputs": [
    {
     "data": {
      "text/plain": [
       "{'color': [0.0, 4.0, 5.0, 7.0, 12.0, 16.0, 19.0, 20.0, 29.0, 45.0],\n",
       " 'bitterness': [8.0, 19.0, 26.0, 33.0, 36.0, 60.0, 250.0],\n",
       " 'strength': [0.039, 0.055, 0.068, 0.077, 0.092, 0.136]}"
      ]
     },
     "execution_count": 42,
     "metadata": {},
     "output_type": "execute_result"
    }
   ],
   "source": [
    "fuzzy_points"
   ]
  },
  {
   "cell_type": "code",
   "execution_count": 57,
   "metadata": {},
   "outputs": [
    {
     "data": {
      "text/plain": [
       "[Rule((('color', '12.0'), ('strength', '0.077')), Barleywine, 0.07361222847948515),\n",
       " Rule((('color', '12.0'), ('strength', '0.077')), IPA, 0.926387771520515),\n",
       " Rule((('color', '12.0'), ('strength', '0.092')), Barleywine, 0.5632295719844357),\n",
       " Rule((('color', '12.0'), ('strength', '0.092')), IPA, 0.43677042801556426),\n",
       " Rule((('color', '16.0'), ('strength', '0.077')), Barleywine, 0.348178137651822),\n",
       " Rule((('color', '16.0'), ('strength', '0.077')), IPA, 0.6518218623481782),\n",
       " Rule((('color', '16.0'), ('strength', '0.092')), Barleywine, 0.8792032717358376),\n",
       " Rule((('color', '16.0'), ('strength', '0.092')), IPA, 0.1207967282641624)]"
      ]
     },
     "execution_count": 57,
     "metadata": {},
     "output_type": "execute_result"
    }
   ],
   "source": [
    "fired_rules"
   ]
  },
  {
   "cell_type": "code",
   "execution_count": 43,
   "metadata": {},
   "outputs": [
    {
     "data": {
      "text/plain": [
       "array(['Blanche', 'Lager', 'Pilsner', 'IPA', 'Stout', 'Barleywine',\n",
       "       'Porter', 'Belgian-Strong-Ale'], dtype=object)"
      ]
     },
     "execution_count": 43,
     "metadata": {},
     "output_type": "execute_result"
    }
   ],
   "source": [
    "y.unique()"
   ]
  },
  {
   "cell_type": "code",
   "execution_count": 80,
   "metadata": {},
   "outputs": [
    {
     "data": {
      "text/plain": [
       "[8.0, 19.0, 26.0, 33.0, 36.0, 60.0, 250.0]"
      ]
     },
     "execution_count": 80,
     "metadata": {},
     "output_type": "execute_result"
    }
   ],
   "source": [
    "fuzzy_points['bitterness']"
   ]
  },
  {
   "cell_type": "code",
   "execution_count": 83,
   "metadata": {},
   "outputs": [],
   "source": [
    "VARIABLES_DICT = {\n",
    "    'color':{\n",
    "        '5.0': 'extremely \\ low',\n",
    "        '7.0': 'very \\ low',\n",
    "        '12.0': 'low',\n",
    "        '16.0': 'high',\n",
    "        '19.0': 'very \\ high',\n",
    "        '20.0': 'extremely \\ high',\n",
    "    },\n",
    "    'strength': {\n",
    "        '0.039': 'extremely \\ low',\n",
    "        '0.055': 'very \\ low',\n",
    "        '0.068': 'low',\n",
    "        '0.077':'high',\n",
    "        '0.092': 'very \\ high',\n",
    "        '0.136': 'extremely \\ high',\n",
    "    },\n",
    "    'bitterness': {\n",
    "        '8.0':  'extremely \\ low',\n",
    "        '19.0':  'very \\ low',\n",
    "        '26.0':  'low',\n",
    "        '33.0':  'medium',\n",
    "        '36.0':  'high',\n",
    "        '60.0':  'very \\ high',\n",
    "        '250.0':'extremely \\ high',\n",
    "    }\n",
    "}"
   ]
  },
  {
   "cell_type": "code",
   "execution_count": 84,
   "metadata": {},
   "outputs": [],
   "source": [
    "def latex_rule(rule, instance, idx):\n",
    "    w = rule.weight\n",
    "    ad = w * rule.matching(instance)\n",
    "    lr = \"\"\n",
    "    lr += \"\\\\tcr{ \\(\\n\"\n",
    "    lr += \"\\small\\n\"\n",
    "    lr += \"\\\\begin{array}{ll}\\n\"\n",
    "    lr += f\"r_{idx}: & ({rule.antecedent[0][0]} \\ {VARIABLES_DICT[rule.antecedent[0][0]][rule.antecedent[0][1]]}) \\land ({rule.antecedent[1][0]} \\ {VARIABLES_DICT[rule.antecedent[1][0]][rule.antecedent[1][1]]})  \\\\\\\\ \\n\"\n",
    "    lr += f\"&w(r_{idx}) = {w:.2f}, \\ AD(r_{idx}(x),x) = {ad:.2f} \\n\"\n",
    "    lr += \"\\end{array}\\n\"\n",
    "    lr += \"\\)\\n\"\n",
    "    lr += \"\\smallskip\\n\"\n",
    "    lr += \"}\\n\"\n",
    "    return lr"
   ]
  },
  {
   "cell_type": "code",
   "execution_count": 86,
   "metadata": {},
   "outputs": [
    {
     "data": {
      "text/plain": [
       "[Rule((('color', '12.0'), ('strength', '0.077')), Barleywine, 0.07361222847948515),\n",
       " Rule((('color', '12.0'), ('strength', '0.077')), IPA, 0.926387771520515),\n",
       " Rule((('color', '12.0'), ('strength', '0.092')), Barleywine, 0.5632295719844357),\n",
       " Rule((('color', '12.0'), ('strength', '0.092')), IPA, 0.43677042801556426),\n",
       " Rule((('color', '16.0'), ('strength', '0.077')), Barleywine, 0.348178137651822),\n",
       " Rule((('color', '16.0'), ('strength', '0.077')), IPA, 0.6518218623481782),\n",
       " Rule((('color', '16.0'), ('strength', '0.092')), Barleywine, 0.8792032717358376),\n",
       " Rule((('color', '16.0'), ('strength', '0.092')), IPA, 0.1207967282641624)]"
      ]
     },
     "execution_count": 86,
     "metadata": {},
     "output_type": "execute_result"
    }
   ],
   "source": [
    "fired_rules"
   ]
  },
  {
   "cell_type": "code",
   "execution_count": 94,
   "metadata": {},
   "outputs": [
    {
     "name": "stdout",
     "output_type": "stream",
     "text": [
      "\\item \\tcr Class $Blanche$\n",
      "\\item \\tcr Class $Lager$\n",
      "\\item \\tcr Class $Pilsner$\n",
      "\\item \\tcr Class $IPA$\n",
      "\\tcr{ \\(\n",
      "\\small\n",
      "\\begin{array}{ll}\n",
      "r_1: & (color \\ low) \\land (strength \\ high)  \\\\ \n",
      "&w(r_1) = 0.93, \\ AD(r_1(x),x) = 0.43 \n",
      "\\end{array}\n",
      "\\)\n",
      "\\smallskip\n",
      "}\n",
      "\n",
      "\\tcr{ \\(\n",
      "\\small\n",
      "\\begin{array}{ll}\n",
      "r_2: & (color \\ low) \\land (strength \\ very \\ high)  \\\\ \n",
      "&w(r_2) = 0.44, \\ AD(r_2(x),x) = 0.22 \n",
      "\\end{array}\n",
      "\\)\n",
      "\\smallskip\n",
      "}\n",
      "\n",
      "\\tcr{ \\(\n",
      "\\small\n",
      "\\begin{array}{ll}\n",
      "r_3: & (color \\ high) \\land (strength \\ high)  \\\\ \n",
      "&w(r_3) = 0.65, \\ AD(r_3(x),x) = 0.30 \n",
      "\\end{array}\n",
      "\\)\n",
      "\\smallskip\n",
      "}\n",
      "\n",
      "\\tcr{ \\(\n",
      "\\small\n",
      "\\begin{array}{ll}\n",
      "r_4: & (color \\ high) \\land (strength \\ very \\ high)  \\\\ \n",
      "&w(r_4) = 0.12, \\ AD(r_4(x),x) = 0.06 \n",
      "\\end{array}\n",
      "\\)\n",
      "\\smallskip\n",
      "}\n",
      "\n",
      "\\item \\tcr Class $Stout$\n",
      "\\item \\tcr Class $Barleywine$\n",
      "\\tcr{ \\(\n",
      "\\small\n",
      "\\begin{array}{ll}\n",
      "r_5: & (color \\ low) \\land (strength \\ high)  \\\\ \n",
      "&w(r_5) = 0.07, \\ AD(r_5(x),x) = 0.03 \n",
      "\\end{array}\n",
      "\\)\n",
      "\\smallskip\n",
      "}\n",
      "\n",
      "\\tcr{ \\(\n",
      "\\small\n",
      "\\begin{array}{ll}\n",
      "r_6: & (color \\ low) \\land (strength \\ very \\ high)  \\\\ \n",
      "&w(r_6) = 0.56, \\ AD(r_6(x),x) = 0.28 \n",
      "\\end{array}\n",
      "\\)\n",
      "\\smallskip\n",
      "}\n",
      "\n",
      "\\tcr{ \\(\n",
      "\\small\n",
      "\\begin{array}{ll}\n",
      "r_7: & (color \\ high) \\land (strength \\ high)  \\\\ \n",
      "&w(r_7) = 0.35, \\ AD(r_7(x),x) = 0.16 \n",
      "\\end{array}\n",
      "\\)\n",
      "\\smallskip\n",
      "}\n",
      "\n",
      "\\tcr{ \\(\n",
      "\\small\n",
      "\\begin{array}{ll}\n",
      "r_8: & (color \\ high) \\land (strength \\ very \\ high)  \\\\ \n",
      "&w(r_8) = 0.88, \\ AD(r_8(x),x) = 0.44 \n",
      "\\end{array}\n",
      "\\)\n",
      "\\smallskip\n",
      "}\n",
      "\n",
      "\\item \\tcr Class $Porter$\n",
      "\\item \\tcr Class $Belgian-Strong-Ale$\n"
     ]
    }
   ],
   "source": [
    "idx = 1\n",
    "for cv in y.unique():\n",
    "    print(f\"\\item \\\\tcr Class ${cv}$\")\n",
    "    rs = [r for r in fired_rules if r.consequent == cv]\n",
    "    for r in rs:\n",
    "        print(latex_rule(r, fuzzy_element, idx))\n",
    "        idx += 1"
   ]
  },
  {
   "cell_type": "code",
   "execution_count": null,
   "metadata": {},
   "outputs": [],
   "source": [
    "idx = 1\n",
    "rs = [r for r in i_cf if r[1] > 0][:4]\n",
    "for r in rs:\n",
    "    print(latex_rule(r, fuzzy_element, idx))\n",
    "    idx += 1"
   ]
  },
  {
   "cell_type": "code",
   "execution_count": 123,
   "metadata": {},
   "outputs": [],
   "source": [
    "def latex_cf(cf_rule, idx):\n",
    "    rule, d = cf_rule\n",
    "    lr = \"\"\n",
    "    lr += f\"r_c_{idx}: &({rule.antecedent[0][0]} \\ {VARIABLES_DICT[rule.antecedent[0][0]][rule.antecedent[0][1]]}) \\land ({rule.antecedent[1][0]} \\ {VARIABLES_DICT[rule.antecedent[1][0]][rule.antecedent[1][1]]})  \\\\rightarrow {rule.consequent}\\\\\\\\ \\n\"\n",
    "    lr += f\"&d(r_c_{idx}, x) = {d:.2f}\\\\\\\\\"\n",
    "    return lr"
   ]
  },
  {
   "cell_type": "code",
   "execution_count": 124,
   "metadata": {},
   "outputs": [
    {
     "name": "stdout",
     "output_type": "stream",
     "text": [
      "r_c_1: &(color \\ high) \\land (strength \\ very \\ high)  \\rightarrow Barleywine\\\\ \n",
      "&d(r_c_1, x) = 0.06\\\\\n",
      "r_c_2: &(color \\ low) \\land (strength \\ high)  \\rightarrow Barleywine\\\\ \n",
      "&d(r_c_2, x) = 0.11\\\\\n",
      "r_c_3: &(color \\ very \\ low) \\land (bitterness \\ very \\ high)  \\rightarrow Barleywine\\\\ \n",
      "&d(r_c_3, x) = 0.11\\\\\n",
      "r_c_4: &(color \\ high) \\land (strength \\ high)  \\rightarrow Barleywine\\\\ \n",
      "&d(r_c_4, x) = 0.16\\\\\n"
     ]
    }
   ],
   "source": [
    "idx = 1\n",
    "rs = [r for r in i_cf if r[1] > 0][:4]\n",
    "for r in rs:\n",
    "    print(latex_cf(r, idx))\n",
    "    idx += 1"
   ]
  },
  {
   "cell_type": "code",
   "execution_count": 125,
   "metadata": {},
   "outputs": [
    {
     "name": "stdout",
     "output_type": "stream",
     "text": [
      "r_c_1: &(color \\ low) \\land (strength \\ high)  \\rightarrow Barleywine\\\\ \n",
      "&d(r_c_1, x) = 0.08\\\\\n",
      "r_c_2: &(color \\ high) \\land (strength \\ high)  \\rightarrow Barleywine\\\\ \n",
      "&d(r_c_2, x) = 0.10\\\\\n",
      "r_c_3: &(color \\ low) \\land (strength \\ very \\ high)  \\rightarrow Barleywine\\\\ \n",
      "&d(r_c_3, x) = 0.12\\\\\n",
      "r_c_4: &(color \\ high) \\land (strength \\ very \\ high)  \\rightarrow Barleywine\\\\ \n",
      "&d(r_c_4, x) = 0.15\\\\\n"
     ]
    }
   ],
   "source": [
    "idx = 1\n",
    "rs = [r for r in f_cf if r[1] > 0][:4]\n",
    "for r in rs:\n",
    "    print(latex_cf(r, idx))\n",
    "    idx += 1"
   ]
  },
  {
   "cell_type": "code",
   "execution_count": null,
   "metadata": {},
   "outputs": [],
   "source": []
  }
 ],
 "metadata": {
  "interpreter": {
   "hash": "6b6c01b492d80ba0c9a786bc350622d755395ccca3c8acd112c563de4f372078"
  },
  "kernelspec": {
   "display_name": "Python 3.10.0 ('.venv': venv)",
   "language": "python",
   "name": "python3"
  },
  "language_info": {
   "codemirror_mode": {
    "name": "ipython",
    "version": 3
   },
   "file_extension": ".py",
   "mimetype": "text/x-python",
   "name": "python",
   "nbconvert_exporter": "python",
   "pygments_lexer": "ipython3",
   "version": "3.10.0"
  },
  "orig_nbformat": 4
 },
 "nbformat": 4,
 "nbformat_minor": 2
}
